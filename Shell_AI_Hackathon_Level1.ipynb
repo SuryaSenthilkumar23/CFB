# Install dependencies if needed
# !pip install -r requirements.txt

import pandas as pd
import numpy as np
import matplotlib.pyplot as plt
import seaborn as sns
from sklearn.model_selection import KFold, cross_val_score
from sklearn.preprocessing import StandardScaler, RobustScaler
from sklearn.decomposition import PCA
from sklearn.metrics import mean_absolute_percentage_error
from sklearn.ensemble import VotingRegressor
import xgboost as xgb
import lightgbm as lgb
import catboost as cb
import optuna
from typing import Dict, List, Tuple, Any
import warnings
import json
from tqdm import tqdm

warnings.filterwarnings('ignore')
plt.style.use('seaborn-v0_8')
sns.set_palette("husl")

print("🚀 All libraries loaded successfully!")# 🏆 Shell.ai Hackathon Level 1: Fuel Blend Properties Prediction

**Elite ML Pipeline for predicting 10 blend properties from component data**

## 🎯 Mission
- **Goal**: Predict 10 blend properties based on 5 component percentages and 50 component-specific properties
- **Metric**: MAPE (Mean Absolute Percentage Error)  
- **Strategy**: Ensemble of XGBoost, CatBoost, and LightGBM with advanced feature engineering

## 📊 Data Structure
- **Input**: 55 features (5 component % + 50 component properties)
- **Output**: 10 blend properties (BlendProperty1 to BlendProperty10)
- **Files**: train.csv, test.csv, sample_solution.csv